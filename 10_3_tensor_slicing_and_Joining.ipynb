{
 "cells": [
  {
   "cell_type": "code",
   "execution_count": 1,
   "metadata": {},
   "outputs": [],
   "source": [
    "import tensorflow as tf"
   ]
  },
  {
   "cell_type": "code",
   "execution_count": 8,
   "metadata": {},
   "outputs": [
    {
     "name": "stdout",
     "output_type": "stream",
     "text": [
      "size of t :  [3 2 3]\n",
      "b =  [[[3 3 3]]]\n",
      "c =  [[[3 3]]\n",
      "\n",
      " [[5 5]]]\n"
     ]
    }
   ],
   "source": [
    "t = tf.constant([[[1,1,1],[2,2,2]],[[3,3,3],[4,4,4]],[[5,5,5],[6,6,6]]])\n",
    "size = tf.shape(t)\n",
    "b = tf.slice(t,[1,0,0],[1,1,3])\n",
    "c = tf.slice(t,[1,0,0],[2,1,2])\n",
    "\n",
    "with tf.compat.v1.Session() as sess:\n",
    "    result = sess.run(b)\n",
    "    result1 = sess.run(c)\n",
    "    si = sess.run(size)\n",
    "    print(\"size of t : \", si)\n",
    "    print(\"b = \",result)\n",
    "    print(\"c = \",result1)"
   ]
  },
  {
   "cell_type": "markdown",
   "metadata": {},
   "source": [
    "slice(input_, begin, size, name=None):\n",
    "<p> 上面例子中slice 读取规则\n",
    "<p> t 张量的尺寸为 3*2*3\n",
    "<p> 其读取规则为：begin = [1,0,0]，size= [1,1,3],size 与begin 一一对应，begin 1 代表第一个维度的起始位置为[[3,3,3],[4,4,4]]\n",
    "<p> size 中与之对应的是 1  也就是在第一个维度的层面上去1个，也就是仅仅在[[3,3,3],[4,4,4]]中提取，接下来第二个维度其实位置也是0 ，\n",
    "<p> 而 size中依然对应1,也就是维度2 中也仅仅取1个，而在第三个维度中 size 为3 也就是取三个，而起始位置是0，因此去取三个就是[3,3,3] "
   ]
  },
  {
   "cell_type": "markdown",
   "metadata": {},
   "source": [
    "#### tf.stack\n",
    "<p>stack(values, axis=0, name='stack') \n",
    "<p>Stacks a list of rank-`R` tensors into one rank-`(R+1)` tensor.\n",
    "<p>Given a list of length `N` of tensors of shape `(A, B, C)`;\n",
    "\n",
    "<p>if `axis == 0` then the `output` tensor will have the shape `(N, A, B, C)`.\n",
    "<p>if `axis == 1` then the `output` tensor will have the shape `(A, N, B, C)`.\n",
    "<p> tf.stack([x, y, z]) = np.stack([x, y, z])"
   ]
  },
  {
   "cell_type": "code",
   "execution_count": 13,
   "metadata": {},
   "outputs": [
    {
     "name": "stdout",
     "output_type": "stream",
     "text": [
      "[3 2]\n",
      "[[1 2 1 2 1 2]\n",
      " [3 4 3 4 3 4]\n",
      " [5 6 5 6 5 6]\n",
      " [1 2 1 2 1 2]\n",
      " [3 4 3 4 3 4]\n",
      " [5 6 5 6 5 6]]\n"
     ]
    }
   ],
   "source": [
    "a = tf.constant([[1, 2], [3, 4], [5, 6]])\n",
    "s = tf.shape(a)\n",
    "a1 = tf.tile(a, [2, 3])\n",
    "with tf.compat.v1.Session() as sess:\n",
    "    R = sess.run(a1)\n",
    "    s_a = sess.run(s)\n",
    "    print(s_a)\n",
    "    print(R)\n",
    "    "
   ]
  },
  {
   "cell_type": "code",
   "execution_count": null,
   "metadata": {},
   "outputs": [],
   "source": []
  }
 ],
 "metadata": {
  "kernelspec": {
   "display_name": "Python 3",
   "language": "python",
   "name": "python3"
  },
  "language_info": {
   "codemirror_mode": {
    "name": "ipython",
    "version": 3
   },
   "file_extension": ".py",
   "mimetype": "text/x-python",
   "name": "python",
   "nbconvert_exporter": "python",
   "pygments_lexer": "ipython3",
   "version": "3.7.3"
  }
 },
 "nbformat": 4,
 "nbformat_minor": 2
}
