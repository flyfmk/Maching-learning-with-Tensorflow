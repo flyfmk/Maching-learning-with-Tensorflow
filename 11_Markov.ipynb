{
 "cells": [
  {
   "cell_type": "markdown",
   "metadata": {},
   "source": [
    "### 隐马尔可夫链（参考李航的《统计学习方法》）\n",
    "隐马尔可夫链三类问题：\n",
    "1. 概率计算问题:给定模型和观测序列，计算在该模型下观测序列出现的概率\n",
    "2. 学习问题：一致观测序列，估计模型参数\n",
    "3. 预测问题：已知模型和观测序列，给定的观测序列，求最有可能对应的状态序列\n",
    "#### EM 算法\n",
    "1.EM算法分为两步，E步和M 步\n",
    "<p> E步：\n",
    "<p>求Q函数 ： $Q(\\lambda,{\\lambda}^i) = E_I[logP(O,I|\\lambda)|O,{\\lambda^i}]$\n",
    "<p> M步：\n",
    "<p> 更新参数使得Q最大\n",
    "    \n",
    "注：本代码关注与马尔科夫链学习问题，即知道观测序列$O = (o_1,o_2,...,o_T) $,估计参数模型 $\\lambda = (A,B,\\pi)$\n",
    "<p> A:转移矩阵 B：状态矩阵 $\\pi:$初始状态概率向量"
   ]
  },
  {
   "cell_type": "code",
   "execution_count": 1,
   "metadata": {},
   "outputs": [],
   "source": [
    "import numpy as np\n",
    "import random\n",
    "#import os\n",
    "class Markov():\n",
    "    def __init__(self, I, A, B):\n",
    "        self.I = I\n",
    "        self.A = A\n",
    "        self.B = B \n",
    "     #前向算法   \n",
    "    def forward(self,I,A,B,P):\n",
    "        #计算初值\n",
    "        T = P.shape[0]\n",
    "        N = I.shape[0]\n",
    "        a = np.zeros((T, N))\n",
    "        '''\n",
    "        for i in range(I.shape[0]):\n",
    "            a[0][i] = I[i] * B[i][0]\n",
    "        '''\n",
    "        a[0,:] = (I*B[:,0]).T\n",
    "        #递推计算\n",
    "        for j in range(T - 1):\n",
    "            for k in range((I.shape[0])):\n",
    "                #print(a[j,:])\n",
    "                #print(self.A[:,j])\n",
    "                #os.system(\"pause\")\n",
    "                #f = np.dot(a[j,:],self.A[:,k])\n",
    "                #print(f)\n",
    "                a[j+1][k] = np.dot(a[j,:],A[:,k]) * B[k][P[j+1]]\n",
    "        P_o = np.sum(a[T-1])\n",
    "        return P_o,a\n",
    "    \n",
    "    #后向算法\n",
    "    def backward(self, I,A,B,P):\n",
    "        T = P.shape[0]\n",
    "        N = I.shape[0]\n",
    "        b_t = np.zeros((T,N))\n",
    "        b_t[T-1] = np.ones((1,N))\n",
    "        temp  = list(range(T-1))\n",
    "        temp.sort(reverse = True)\n",
    "        for t in temp:\n",
    "            for i in range(N):\n",
    "                pp = A[i] * b_t[t+1]\n",
    "                b_t[t][i] = np.dot(pp, B[:,P[t+1]])\n",
    "                \n",
    "        tt = I * (B[:,0].T) * b_t[0]\n",
    "        P_o_b = np.sum(tt)\n",
    "        return P_o_b,b_t\n",
    "    \n",
    "    #生成观测序列\n",
    "    def generate_O(self,T):\n",
    "        O = []\n",
    "        # 确定初始观测位置\n",
    "        index = self.rand_(P_array = self.I)\n",
    "        pr = self.B[index,:]\n",
    "        # 确定初始观测结果\n",
    "        O_result= self.rand_(P_array = pr)\n",
    "        O.append(O_result)\n",
    "        \n",
    "        # 状态转移\n",
    "        for t in range(1,T):\n",
    "            P_a = self.A[index,:]\n",
    "            index_1 = self.rand_(P_array = P_a)\n",
    "            pr_1 = self.B[index_1,:]\n",
    "            O_result_1 = self.rand_(P_array = pr_1)\n",
    "            O.append(O_result_1)\n",
    "            index = index_1\n",
    "        return O\n",
    "    # 确定随机状态  \n",
    "    def rand_(self,P_array):\n",
    "        L = P_array.shape[0]\n",
    "        p = np.random.uniform()\n",
    "        for i in range(L):\n",
    "            if i == 0:\n",
    "                if p <= P_array[0]:\n",
    "                    index = 0\n",
    "                    break\n",
    "            else:\n",
    "                if p <= np.sum(P_array[range(i+1)]) and p > np.sum(P_array[range(i)]):\n",
    "                    index = i\n",
    "                    break\n",
    "        return index\n",
    "    #计算t处于状态qi的概率\n",
    "    #计算t 处于qi t+1 处于 qj 的概率\n",
    "    def Ca_Gamma(self,I,A,B,O:list):\n",
    "        T = len(O)\n",
    "        O = np.array(O)\n",
    "        P_o,a = self.forward(I,A,B,O)\n",
    "        P_o_b,b = self.backward(I,A,B,O)\n",
    "        gamma = np.zeros(a.shape)\n",
    "        temp_ = list(A.shape)\n",
    "        temp = []\n",
    "        temp.append(T-1)\n",
    "        temp.extend(temp_)\n",
    "        \n",
    "        #tmep = list(T-1).append(temp)\n",
    "        ca_t = np.zeros(temp)\n",
    "        #计算t处于状态qi的概率\n",
    "        for t in range(T):\n",
    "            for i in range(a.shape[1]):\n",
    "                gamma[t,i] = a[t,i]*b[t,i]/np.dot(a[t,:],b[t,:])\n",
    "        self.gamma = gamma\n",
    "        \n",
    "        #计算t 处于qi t+1 处于 qj 的概率\n",
    "        for t in range(T-1):\n",
    "            temp = np.zeros(A.shape)\n",
    "            for i in range(A.shape[0]):\n",
    "                for j in range(A.shape[1]):\n",
    "                    temp[i,j] = a[t,i]*A[i,j]*B[j,O[t+1]]*b[t+1,j]\n",
    "            ca_t[t,:,:] = temp/(np.sum(temp))\n",
    "        self.ca_t = ca_t\n",
    "        return gamma , ca_t\n",
    "\n",
    "    def Baum_welch(self,O,N,M,iter_=100):\n",
    "        #N:初始状态个数\n",
    "        #M:每个状态中的变化个数\n",
    "        #例如：有4个盒子，每个盒子中有3中球，则N = 4， M = 3\n",
    "        \n",
    "        #将所有状态进行标号\n",
    "        V = list(range(M))\n",
    "        \n",
    "        #确定观测长度\n",
    "        T = len(O)\n",
    "        #参数初始化\n",
    "   \n",
    "        I = np.array(random.sample(range(N,N+10),N))\n",
    "        I = I/np.sum(I)\n",
    "        \n",
    "        A = np.abs(np.random.randn(N,N))\n",
    "        s = np.sum(A,1)\n",
    "        A = np.array([A[i,:]/s[i] for i in range(A.shape[0])])\n",
    "        \n",
    "        B = np.abs(np.random.randn(N,M))\n",
    "        sb = np.sum(B,1)\n",
    "        B = np.array([B[i,:]/sb[i] for i in range(B.shape[0])])\n",
    "        #print(\"B.shape = \",B.shape)\n",
    "    \n",
    "        #I = np.array([1/N]*N)\n",
    "        #A = np.ones((N,N))*1/N\n",
    "        #B = np.ones((N,M))*1/M\n",
    "        print(\"开始迭代\")\n",
    "        #迭代\n",
    "        while(iter_ > 0):\n",
    "            iter_ =  iter_ - 1\n",
    "            if iter_%10 == 0:\n",
    "                print(\"---------------------\",iter_)\n",
    "            gamma , ca_t = self.Ca_Gamma(I,A,B,O)\n",
    "            #更新初始状态\n",
    "            I_new = np.copy(gamma[0,:])\n",
    "\n",
    "            #更新初始状态 转移矩阵\n",
    "            A_new = np.zeros(A.shape)\n",
    "            for i in range(A.shape[0]):\n",
    "                for j in range(A.shape[0]):\n",
    "                    tt = 0\n",
    "                    for t in range(T-1):\n",
    "                        tt += ca_t[t,i,j]\n",
    "                    A_new[i,j] = tt/np.sum(gamma[0:T-1,i])  \n",
    "\n",
    "            # 更新观测概率矩阵\n",
    "            B_new = np.zeros(B.shape)\n",
    "            for j in range(N):\n",
    "                for k in range(M):\n",
    "                     tt1 = 0 \n",
    "                     for t in range(T):\n",
    "                        if O[t] == V[k]:  \n",
    "                            tt1 += gamma[t,j]\n",
    "                     B_new[j,k] = tt1/np.sum(gamma[:,j])\n",
    "            \n",
    "            I = np.copy(I_new)     \n",
    "            A = np.copy(A_new)\n",
    "            B = np.copy(B_new)\n",
    "            self.I_p = np.copy(I)\n",
    "            self.A_p = np.copy(A)\n",
    "            self.B_p = np.copy(B)"
   ]
  },
  {
   "cell_type": "code",
   "execution_count": 14,
   "metadata": {},
   "outputs": [
    {
     "name": "stdout",
     "output_type": "stream",
     "text": [
      "(6, 3)\n",
      "[[0.1        0.16       0.28      ]\n",
      " [0.077      0.0736     0.1414    ]\n",
      " [0.04443    0.056772   0.032556  ]\n",
      " [0.0228789  0.01881552 0.02867298]\n",
      " [0.01140935 0.01355126 0.00748898]\n",
      " [0.00563392 0.00678252 0.00296326]]\n",
      "(6, 3)\n",
      "[[0.02836522 0.02649512 0.02965701]\n",
      " [0.05320483 0.05776176 0.04972891]\n",
      " [0.116032   0.110117   0.122031  ]\n",
      " [0.2149     0.2478     0.2023    ]\n",
      " [0.46       0.51       0.43      ]\n",
      " [1.         1.         1.        ]]\n"
     ]
    }
   ],
   "source": [
    "# 测试前向/后向 计算方式\n",
    "I = np.array([0.2, 0.4, 0.4])\n",
    "A = np.array([[0.5, 0.2, 0.3],[0.3, 0.5, 0.2],[0.2, 0.3, 0.5]])\n",
    "B = np.array([[0.5, 0.5], [0.4, 0.6], [0.7, 0.3]])\n",
    "m = Markov(I,A,B)\n",
    "#P = np.array([0, 1,0])\n",
    "P = np.array([1, 0, 1, 0, 1, 1])\n",
    "P_o,a = m.forward(I,A,B,P)\n",
    "P_o_b,b = m.backward(I,A,B,P)\n",
    "print(a.shape)\n",
    "print(a)\n",
    "print(b.shape)\n",
    "print(b)"
   ]
  },
  {
   "cell_type": "code",
   "execution_count": 8,
   "metadata": {},
   "outputs": [
    {
     "name": "stdout",
     "output_type": "stream",
     "text": [
      "[1, 0, 1, 0, 1, 1]\n"
     ]
    }
   ],
   "source": [
    "# 测试生成序列\n",
    "I = np.array([0.2, 0.4, 0.4])\n",
    "A = np.array([[0.5, 0.2, 0.3],[0.3, 0.5, 0.2],[0.2, 0.3, 0.5]])\n",
    "B = np.array([[0.5, 0.5], [0.4, 0.6], [0.7, 0.3]])\n",
    "T = 3\n",
    "m = Markov(I,A,B)\n",
    "z = m.generate_O(6)\n",
    "print(z)"
   ]
  },
  {
   "cell_type": "code",
   "execution_count": 35,
   "metadata": {},
   "outputs": [
    {
     "name": "stdout",
     "output_type": "stream",
     "text": [
      "[0, 1, 1, 0, 1, 1, 0, 1, 0, 0, 1, 0, 0, 0, 0, 1, 1, 0, 1, 1]\n",
      "开始迭代\n",
      "--------------------- 90\n",
      "--------------------- 80\n",
      "--------------------- 70\n",
      "--------------------- 60\n",
      "--------------------- 50\n",
      "--------------------- 40\n",
      "--------------------- 30\n",
      "--------------------- 20\n",
      "--------------------- 10\n",
      "--------------------- 0\n",
      "I =  [0. 1. 0.]\n",
      "A =  [[4.94945619e-085 1.00000000e+000 6.82162060e-131]\n",
      " [1.42857143e-001 9.77670179e-092 8.57142857e-001]\n",
      " [1.00000000e+000 0.00000000e+000 5.74030455e-050]]\n",
      "B =  [[4.28571429e-001 5.71428571e-001]\n",
      " [1.00000000e+000 6.83901812e-147]\n",
      " [2.51600235e-058 1.00000000e+000]]\n"
     ]
    }
   ],
   "source": [
    "# EM 算法 估计参数\n",
    "I = np.array([0.2, 0.4, 0.4])\n",
    "A = np.array([[0.5, 0.2, 0.3],[0.3, 0.5, 0.2],[0.2, 0.3, 0.5]])\n",
    "B = np.array([[0.5, 0.5], [0.4, 0.6], [0.7, 0.3]])\n",
    "m = Markov(I,A,B)\n",
    "O = m.generate_O(20)\n",
    "#O_ = np.array([0, 1,0])\n",
    "print(O)\n",
    "m.Baum_welch(O,3,2)\n",
    "print(\"I = \",m.I_p)\n",
    "print(\"A = \",m.A_p)\n",
    "print(\"B = \",m.B_p)\n",
    "#print(m.ca_t)"
   ]
  },
  {
   "cell_type": "code",
   "execution_count": null,
   "metadata": {},
   "outputs": [],
   "source": []
  },
  {
   "cell_type": "code",
   "execution_count": 19,
   "metadata": {},
   "outputs": [
    {
     "name": "stdout",
     "output_type": "stream",
     "text": [
      "[[0.98747748]\n",
      " [0.98747748]\n",
      " [0.98747748]]\n",
      "[[-0.78747748]\n",
      " [-0.58747748]\n",
      " [-0.58747748]]\n",
      "(array([0, 1, 2], dtype=int64), array([0, 0, 0], dtype=int64))\n",
      "3\n"
     ]
    }
   ],
   "source": [
    "import numpy as np\n",
    "I = np.array([0.2, 0.4, 0.4])\n",
    "I.shape[0]\n",
    "p = np.random.uniform()\n",
    "p = p*np.ones((3,1))\n",
    "#I = np.expand_dims(I,axis = 1)\n",
    "I = I[:,np.newaxis]\n",
    "t = I - p\n",
    "ind = np.where(t<=0)\n",
    "print(p)\n",
    "print(t)\n",
    "print(ind)\n",
    "print(I.shape[0])"
   ]
  },
  {
   "cell_type": "code",
   "execution_count": 57,
   "metadata": {},
   "outputs": [
    {
     "name": "stdout",
     "output_type": "stream",
     "text": [
      "[[1.  0.4 0.6]\n",
      " [0.6 1.  0.4]]\n"
     ]
    }
   ],
   "source": [
    "A = np.array([[0.5, 0.2, 0.3],[0.3, 0.5, 0.2],[0.2, 0.3, 0.5]])\n",
    "B =  np.array([[[0.5, 0.2, 0.3],[0.3, 0.5, 0.2]],[[0.5, 0.2, 0.3],[0.3, 0.5, 0.2]]])\n",
    "c = np.sum(B,0)\n",
    "print(c)"
   ]
  },
  {
   "cell_type": "code",
   "execution_count": 21,
   "metadata": {},
   "outputs": [
    {
     "name": "stdout",
     "output_type": "stream",
     "text": [
      "[1]\n"
     ]
    }
   ],
   "source": [
    "a = 1\n",
    "b = []\n",
    "b.append(a)\n",
    "a = 2\n",
    "print(b)"
   ]
  },
  {
   "cell_type": "code",
   "execution_count": 19,
   "metadata": {},
   "outputs": [
    {
     "name": "stdout",
     "output_type": "stream",
     "text": [
      "[0.1  0.12 0.08]\n"
     ]
    }
   ],
   "source": [
    "I = np.array([0.2, 0.4, 0.4])\n",
    "\n",
    "A = np.array([[0.5, 0.2, 0.3],[0.3, 0.5, 0.2],[0.2, 0.3, 0.5]])\n",
    "A[2,:] = (A[:,0]*I).T\n",
    "print(A[2,:])"
   ]
  },
  {
   "cell_type": "code",
   "execution_count": 38,
   "metadata": {},
   "outputs": [
    {
     "data": {
      "text/plain": [
       "array([[ 0.72623315,  0.36890259, -0.20474817,  1.05738532],\n",
       "       [ 0.73757077,  1.10612743,  0.10633356, -2.21435742],\n",
       "       [-0.4985321 , -0.36497318,  0.38486569, -0.16381695]])"
      ]
     },
     "execution_count": 38,
     "metadata": {},
     "output_type": "execute_result"
    }
   ],
   "source": [
    "import random\n",
    "import numpy as np\n",
    "p = np.array(random.sample(range(1,9),3))\n",
    "np.random.randn(3,4)"
   ]
  },
  {
   "cell_type": "code",
   "execution_count": 53,
   "metadata": {},
   "outputs": [
    {
     "name": "stdout",
     "output_type": "stream",
     "text": [
      "<class 'numpy.ndarray'>\n",
      "[[0.3509054  0.20060274 0.44849186]\n",
      " [0.86302235 0.07181622 0.06516143]\n",
      " [0.25463415 0.45597277 0.28939309]]\n"
     ]
    }
   ],
   "source": [
    "A = np.abs(np.random.randn(3,3))\n",
    "s = np.sum(A,1)\n",
    "A = np.array([A[i,:]/s[i] for i in range(A.shape[0])])\n",
    "print(type(A))\n",
    "print(A)"
   ]
  },
  {
   "cell_type": "code",
   "execution_count": 52,
   "metadata": {},
   "outputs": [
    {
     "data": {
      "text/plain": [
       "array([1., 1., 1.])"
      ]
     },
     "execution_count": 52,
     "metadata": {},
     "output_type": "execute_result"
    }
   ],
   "source": [
    "np.sum(A,1)"
   ]
  },
  {
   "cell_type": "code",
   "execution_count": null,
   "metadata": {},
   "outputs": [],
   "source": []
  }
 ],
 "metadata": {
  "kernelspec": {
   "display_name": "Python 3",
   "language": "python",
   "name": "python3"
  },
  "language_info": {
   "codemirror_mode": {
    "name": "ipython",
    "version": 3
   },
   "file_extension": ".py",
   "mimetype": "text/x-python",
   "name": "python",
   "nbconvert_exporter": "python",
   "pygments_lexer": "ipython3",
   "version": "3.7.3"
  }
 },
 "nbformat": 4,
 "nbformat_minor": 2
}
