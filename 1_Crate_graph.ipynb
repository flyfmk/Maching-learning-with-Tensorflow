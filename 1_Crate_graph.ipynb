{
 "cells": [
  {
   "cell_type": "code",
   "execution_count": 1,
   "metadata": {},
   "outputs": [],
   "source": [
    "import tensorflow as tf"
   ]
  },
  {
   "cell_type": "code",
   "execution_count": 2,
   "metadata": {},
   "outputs": [],
   "source": [
    "m1 = tf.constant([[3, 3]]) #常量\n",
    "m2 = tf.constant([[2],[3]])\n",
    "p = tf.matmul(m1,m2)"
   ]
  },
  {
   "cell_type": "code",
   "execution_count": 5,
   "metadata": {},
   "outputs": [
    {
     "name": "stdout",
     "output_type": "stream",
     "text": [
      "[[15]]\n"
     ]
    }
   ],
   "source": [
    "sess = tf.compat.v1.Session()\n",
    "result = sess.run(p)\n",
    "print(result)\n",
    "sess.close()"
   ]
  },
  {
   "cell_type": "markdown",
   "metadata": {},
   "source": [
    "调用sess的第一种方法（创建图和启动图）"
   ]
  },
  {
   "cell_type": "code",
   "execution_count": 7,
   "metadata": {},
   "outputs": [
    {
     "name": "stdout",
     "output_type": "stream",
     "text": [
      "[[15]]\n"
     ]
    }
   ],
   "source": [
    "with  tf.compat.v1.Session() as sess:\n",
    "    result = sess.run(p)\n",
    "print(result)"
   ]
  },
  {
   "cell_type": "markdown",
   "metadata": {},
   "source": [
    "调用sess的第二种方法（注意此处不需要加close，建议使用此方法）"
   ]
  },
  {
   "cell_type": "markdown",
   "metadata": {},
   "source": [
    "## 常用的计算\n",
    "1. tf.add(x, y) -> Add two tensors of the same type, x + y\n",
    "2. tf.subtract(x, y) -> Subtract tensors of the same type, x - y\n",
    "3. tf.multiply(x, y) -> Multiply two tensors element-wise\n",
    "4. tf.pow(x, y) -> Take the element-wise power of x to y\n",
    "5. tf.exp(x) -> Equivalent to pow(e, x), where e is Euler’s number (2.718…)\n",
    "6. tf.sqrt(x) -> Equivalent to pow(x, 0.5)\n",
    "7. tf.div(x, y) -> Take the element-wise division of x and y\n",
    "8. tf.truediv(x, y) -> Same as tf.div, except casts the arguments as a float\n",
    "9. tf.floordiv(x, y) -> Same as truediv, except rounds down the final answer into an integer\n",
    "10. tf.mod(x, y) -> Takes the element-wise remainder from division\n",
    "11. tf.negative  => $ f(x) = -x $"
   ]
  },
  {
   "cell_type": "code",
   "execution_count": null,
   "metadata": {},
   "outputs": [],
   "source": [
    "import tensorflow as tf\n",
    "import numpy as np\n",
    "\n"
   ]
  }
 ],
 "metadata": {
  "kernelspec": {
   "display_name": "Python 3",
   "language": "python",
   "name": "python3"
  },
  "language_info": {
   "codemirror_mode": {
    "name": "ipython",
    "version": 3
   },
   "file_extension": ".py",
   "mimetype": "text/x-python",
   "name": "python",
   "nbconvert_exporter": "python",
   "pygments_lexer": "ipython3",
   "version": "3.7.3"
  }
 },
 "nbformat": 4,
 "nbformat_minor": 2
}
