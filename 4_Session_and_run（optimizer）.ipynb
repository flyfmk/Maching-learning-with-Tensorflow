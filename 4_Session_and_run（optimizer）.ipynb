{
 "cells": [
  {
   "cell_type": "code",
   "execution_count": 2,
   "metadata": {},
   "outputs": [],
   "source": [
    "import tensorflow as tf\n",
    "import numpy as np"
   ]
  },
  {
   "cell_type": "code",
   "execution_count": 3,
   "metadata": {},
   "outputs": [],
   "source": [
    "x_data = np.random.rand(100)\n",
    "y_data = x_data*0.1+0.2"
   ]
  },
  {
   "cell_type": "code",
   "execution_count": 18,
   "metadata": {},
   "outputs": [],
   "source": [
    "b = tf.Variable(0.)\n",
    "w = tf.Variable(0.) \n",
    "y = w*x_data+b"
   ]
  },
  {
   "cell_type": "code",
   "execution_count": 19,
   "metadata": {},
   "outputs": [],
   "source": [
    "loss = tf.reduce_mean(tf.square(y_data-y))\n",
    "optimizer = tf.train.GradientDescentOptimizer(0.2)\n",
    "train = optimizer.minimize(loss)"
   ]
  },
  {
   "cell_type": "code",
   "execution_count": 21,
   "metadata": {},
   "outputs": [],
   "source": [
    "init = tf.global_variables_initializer()"
   ]
  },
  {
   "cell_type": "code",
   "execution_count": 23,
   "metadata": {},
   "outputs": [
    {
     "name": "stdout",
     "output_type": "stream",
     "text": [
      "0 [0.05196759, 0.09956787]\n",
      "20 [0.10209155, 0.19890572]\n",
      "40 [0.1012362, 0.1993533]\n",
      "60 [0.100730635, 0.19961777]\n",
      "80 [0.10043183, 0.1997741]\n",
      "100 [0.10025523, 0.19986649]\n",
      "120 [0.100150846, 0.19992109]\n",
      "140 [0.10008916, 0.19995335]\n",
      "160 [0.10005271, 0.19997242]\n",
      "180 [0.10003116, 0.1999837]\n"
     ]
    }
   ],
   "source": [
    "with  tf.compat.v1.Session() as sess:\n",
    "    sess.run(init)\n",
    "    for step in range(200):\n",
    "        sess.run(train)\n",
    "        if step%20 == 0:\n",
    "            print(step,sess.run([w,b]))\n"
   ]
  },
  {
   "cell_type": "code",
   "execution_count": 1,
   "metadata": {},
   "outputs": [
    {
     "data": {
      "text/plain": [
       "'1.14.0'"
      ]
     },
     "execution_count": 1,
     "metadata": {},
     "output_type": "execute_result"
    }
   ],
   "source": [
    "import tensorflow as tf\n",
    "tf.__version__"
   ]
  },
  {
   "cell_type": "markdown",
   "metadata": {},
   "source": [
    "## tf 的优化器：\n",
    "1. tf.train.Optimizer\n",
    "2. tf.train.GradientDescentOptimizer\n",
    "3. tf.train.AdadeltaOptimizer\n",
    "4. tf.train.AdagtadOptimizer 适用稀疏数据集的训练（不需要人为的去调整学习率）\n",
    "5. tf.train.AdagradDAOptimizer\n",
    "6. tf.train.MomentumOptimizer\n",
    "7. tf.train.AdamOptimizer\n",
    "8. tf.train.FtrlOptimizer\n",
    "9. tf.train.ProximalGradientDescentOptimizer\n",
    "10. tf.train.ProximalAdagradOptimizer\n",
    "11. tf.train.RMSProOptimizer\n",
    "\n",
    "### 其中常用的有：tf.train.GradientDescentOptimizer、tf.train.MomentumOptimizer、tf.train.AdamOptimizer"
   ]
  },
  {
   "cell_type": "code",
   "execution_count": null,
   "metadata": {},
   "outputs": [],
   "source": []
  }
 ],
 "metadata": {
  "kernelspec": {
   "display_name": "Python 3",
   "language": "python",
   "name": "python3"
  },
  "language_info": {
   "codemirror_mode": {
    "name": "ipython",
    "version": 3
   },
   "file_extension": ".py",
   "mimetype": "text/x-python",
   "name": "python",
   "nbconvert_exporter": "python",
   "pygments_lexer": "ipython3",
   "version": "3.7.3"
  }
 },
 "nbformat": 4,
 "nbformat_minor": 2
}
