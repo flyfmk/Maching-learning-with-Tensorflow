{
 "cells": [
  {
   "cell_type": "markdown",
   "metadata": {},
   "source": [
    "## TensorFlow中常见的损失函数："
   ]
  },
  {
   "cell_type": "markdown",
   "metadata": {},
   "source": [
    "1. 交叉熵：\n",
    "$$H(p,q) = - \\sum_{x}{p(x)}{log(q(x))}$$\n",
    "code: cross_entropy = tf.nn.softmax_cross_entropy_with_logits\n",
    "2. 均方差（MSE）\n",
    "3. 对数似然函数\n",
    "对数似然函数常用来作 softmax回归的代价函数，如果输出的是sigmod函数，可以采用交叉熵代价函数，而在DeepLearning中，softmax常做最后一层（这个有待查证）此时代价函数常用softmax层\n",
    "4. 实现：\n",
    "tf.nn.sigmod_cross_entropy_with_logits() 跟sigmoid 搭配使用的交叉熵\n",
    "tf.nn.softmax_cross_entropy_with_logits()跟softmax搭配使用的交叉熵\n"
   ]
  },
  {
   "cell_type": "markdown",
   "metadata": {},
   "source": [
    "## TensorFlow中常见的激活函数："
   ]
  },
  {
   "cell_type": "markdown",
   "metadata": {},
   "source": [
    "1. sigmod：$$ S(x)= \\frac{1}{1+{e^{-x}}} $$\n",
    "Code:tf.sigmoid()/tf.log_sigmoid\n",
    "2. tanh : $$ tanh = \\frac{sinhx}{coshx}=\\frac{e{^x}-{e{^{-x}}}}{e{^x}+{e{^{-x}}}}$$\n",
    "tanh收敛速度比sigmod快，但是存在梯度消失的问题\n",
    "Code ： tf.tanh()\n",
    "3. Relu : $$ f(x) = max(x,0)$$\n",
    "Code :tf.nn.relu\n",
    "relu函数在x<0时，输出始终为0。由于x>0时，relu函数的导数为1，所以relu函数能够在x>0时保持梯度不断衰减，从而缓解梯度消失的问题，还能加快收敛速度，还能是神经网络具有稀疏性表达能力，这也是relu激活函数能够被使用在深层神经网络中的原因。由于当x<0时，relu函数的导数为0，导致对应的权重无法更新，这样的神经元被称为\"神经元死亡\"。\n",
    "4. crelu激活函数：定义为[relu(x),relu(-x)]相对于relu(x)，crelu的输出会增加一倍。\n",
    "5. softplus激活函数：定义为log((e^x)+1)，被称为平滑的relu。\n",
    "6. dropout (抑制过拟合)\n",
    "Code：tf.nn.dropout"
   ]
  },
  {
   "cell_type": "code",
   "execution_count": null,
   "metadata": {},
   "outputs": [],
   "source": []
  }
 ],
 "metadata": {
  "kernelspec": {
   "display_name": "Python 3",
   "language": "python",
   "name": "python3"
  },
  "language_info": {
   "codemirror_mode": {
    "name": "ipython",
    "version": 3
   },
   "file_extension": ".py",
   "mimetype": "text/x-python",
   "name": "python",
   "nbconvert_exporter": "python",
   "pygments_lexer": "ipython3",
   "version": "3.7.3"
  }
 },
 "nbformat": 4,
 "nbformat_minor": 2
}
