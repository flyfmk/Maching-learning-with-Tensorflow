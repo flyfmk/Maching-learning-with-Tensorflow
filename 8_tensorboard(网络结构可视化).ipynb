{
 "cells": [
  {
   "cell_type": "code",
   "execution_count": 2,
   "metadata": {},
   "outputs": [],
   "source": [
    "import tensorflow as tf\n",
    "import numpy as np\n",
    "import matplotlib.pyplot as plt\n",
    "\n",
    "x_data = np.linspace(-0.5,0.5,200)[:,np.newaxis]\n",
    "noise = np.random.normal(0,0.02,x_data.shape)\n",
    "y_data = np.square(x_data)+noise\n",
    "\n",
    "\n",
    "x = tf.placeholder(tf.float32,[None,1])\n",
    "y = tf.placeholder(tf.float32,[None,1])\n",
    "# ANN Structure\n",
    "#input layer\n",
    "W1 = tf.Variable(tf.random.normal([1,10]))\n",
    "B1 = tf.Variable(tf.zeros([1,10]))\n",
    "O1 = tf.matmul(x,W1)+B1\n",
    "L1 = tf.nn.tanh(O1)\n",
    "\n",
    "#Output layer\n",
    "W2 = tf.Variable(tf.random.normal([10,1]))\n",
    "B2 = tf.Variable(tf.zeros([1,1]))\n",
    "O2 = tf.matmul(L1,W2)+B2\n",
    "\n",
    "loss = tf.reduce_mean(tf.square(y-O2))\n",
    "optimizer = tf.train.GradientDescentOptimizer(0.2)\n",
    "train = optimizer.minimize(loss)\n",
    "\n",
    "init = tf.global_variables_initializer()\n",
    "\n",
    "with  tf.compat.v1.Session() as sess:\n",
    "    sess.run(init)\n",
    "    for step in range(2000):\n",
    "        sess.run(train,feed_dict = {x:x_data,y:y_data})\n",
    "    p = sess.run(O2,feed_dict={x:x_data})"
   ]
  },
  {
   "cell_type": "code",
   "execution_count": null,
   "metadata": {},
   "outputs": [],
   "source": []
  },
  {
   "cell_type": "code",
   "execution_count": null,
   "metadata": {},
   "outputs": [],
   "source": []
  },
  {
   "cell_type": "code",
   "execution_count": null,
   "metadata": {},
   "outputs": [],
   "source": []
  },
  {
   "cell_type": "code",
   "execution_count": null,
   "metadata": {},
   "outputs": [],
   "source": []
  }
 ],
 "metadata": {
  "kernelspec": {
   "display_name": "Python 3",
   "language": "python",
   "name": "python3"
  },
  "language_info": {
   "codemirror_mode": {
    "name": "ipython",
    "version": 3
   },
   "file_extension": ".py",
   "mimetype": "text/x-python",
   "name": "python",
   "nbconvert_exporter": "python",
   "pygments_lexer": "ipython3",
   "version": "3.7.3"
  }
 },
 "nbformat": 4,
 "nbformat_minor": 2
}
